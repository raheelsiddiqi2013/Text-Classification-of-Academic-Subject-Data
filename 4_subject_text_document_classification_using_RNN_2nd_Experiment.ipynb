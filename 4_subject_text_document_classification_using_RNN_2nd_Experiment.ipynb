{
 "cells": [
  {
   "cell_type": "markdown",
   "metadata": {},
   "source": [
    "# Preprocessing the raw Four Subject Text Document Data"
   ]
  },
  {
   "cell_type": "code",
   "execution_count": 1,
   "metadata": {},
   "outputs": [],
   "source": [
    "import os\n",
    "\n",
    "four_subject_dir='D:\\\\TensorFlow Programs\\\\Text Classification Programs and Datasets\\\\4-subject-data-text-classification\\\\train_data_final'\n",
    "\n",
    "labels = []\n",
    "texts = []\n",
    "\n",
    "for label_type in ['accounts','biology','geography','physics']:\n",
    "    dir_name=os.path.join(four_subject_dir, label_type)\n",
    "    for fname in os.listdir(dir_name):\n",
    "        if fname[-4:]=='.txt':\n",
    "            f=open(os.path.join(dir_name,fname),encoding='utf-8')\n",
    "            texts.append(f.read())\n",
    "            f.close()\n",
    "            if label_type=='accounts':\n",
    "                labels.append(0)\n",
    "            elif label_type=='biology':\n",
    "                labels.append(1)\n",
    "            elif label_type=='geography':\n",
    "                labels.append(2)\n",
    "            elif label_type=='physics':\n",
    "                labels.append(3)"
   ]
  },
  {
   "cell_type": "markdown",
   "metadata": {},
   "source": [
    "# Tokenizing the Data"
   ]
  },
  {
   "cell_type": "code",
   "execution_count": 2,
   "metadata": {},
   "outputs": [
    {
     "name": "stderr",
     "output_type": "stream",
     "text": [
      "Using TensorFlow backend.\n"
     ]
    },
    {
     "name": "stdout",
     "output_type": "stream",
     "text": [
      "Found 28512 unique tokens\n",
      "(1786, 5)\n",
      "Shape of data tensor: (1786, 400)\n",
      "Shape of label tensor: (1786, 5)\n"
     ]
    }
   ],
   "source": [
    "from keras.preprocessing.text import Tokenizer\n",
    "from keras.preprocessing.sequence import pad_sequences\n",
    "from keras.utils import to_categorical\n",
    "import numpy as np\n",
    "\n",
    "maxlen=400\n",
    "training_samples=1500\n",
    "validation_samples=len(texts)-training_samples\n",
    "max_words=26000\n",
    "\n",
    "tokenizer=Tokenizer(num_words=max_words)\n",
    "tokenizer.fit_on_texts(texts)\n",
    "sequences=tokenizer.texts_to_sequences(texts)\n",
    "word_index=tokenizer.word_index\n",
    "print('Found %s unique tokens'%len(word_index))\n",
    "\n",
    "data=pad_sequences(sequences, maxlen=maxlen)\n",
    "\n",
    "labels=np.asarray(labels)\n",
    "labels=to_categorical(labels,num_classes=5)\n",
    "print(labels.shape)\n",
    "print('Shape of data tensor:',data.shape)\n",
    "print('Shape of label tensor:',labels.shape)\n",
    "\n",
    "indices=np.arange(data.shape[0])\n",
    "np.random.shuffle(indices)\n",
    "data=data[indices]\n",
    "labels=labels[indices]\n",
    "      \n",
    "x_train=data[:training_samples]\n",
    "y_train=labels[:training_samples]\n",
    "x_val=data[training_samples:training_samples+validation_samples]\n",
    "y_val=labels[training_samples:training_samples+validation_samples]"
   ]
  },
  {
   "cell_type": "markdown",
   "metadata": {},
   "source": [
    "# Model Definition"
   ]
  },
  {
   "cell_type": "code",
   "execution_count": 3,
   "metadata": {},
   "outputs": [
    {
     "name": "stdout",
     "output_type": "stream",
     "text": [
      "WARNING:tensorflow:From C:\\Users\\Raheel\\Anaconda3\\envs\\EnvName\\lib\\site-packages\\tensorflow\\python\\framework\\op_def_library.py:263: colocate_with (from tensorflow.python.framework.ops) is deprecated and will be removed in a future version.\n",
      "Instructions for updating:\n",
      "Colocations handled automatically by placer.\n",
      "_________________________________________________________________\n",
      "Layer (type)                 Output Shape              Param #   \n",
      "=================================================================\n",
      "embedding_1 (Embedding)      (None, None, 100)         2600000   \n",
      "_________________________________________________________________\n",
      "lstm_1 (LSTM)                (None, 256)               365568    \n",
      "_________________________________________________________________\n",
      "dense_1 (Dense)              (None, 5)                 1285      \n",
      "=================================================================\n",
      "Total params: 2,966,853\n",
      "Trainable params: 2,966,853\n",
      "Non-trainable params: 0\n",
      "_________________________________________________________________\n"
     ]
    }
   ],
   "source": [
    "from keras.models import Sequential\n",
    "from keras.layers import Embedding, LSTM, Dense, Bidirectional,Dropout\n",
    "from keras import optimizers\n",
    "from keras.callbacks import ModelCheckpoint\n",
    "\n",
    "embedding_dim=100\n",
    "model=Sequential()\n",
    "model.add(Embedding(max_words,embedding_dim))\n",
    "model.add(LSTM(256))\n",
    "model.add(Dense(5, activation='softmax'))\n",
    "model.compile(loss='categorical_crossentropy',optimizer=optimizers.Adam(lr=1e-4),metrics=['categorical_accuracy'])\n",
    "model.summary()\n",
    "filepath=\"Four_Subject_Text_Document_Classification_using_Recurrent_Neural_Network_2nd Experiment.h5\"\n",
    "checkpoint = ModelCheckpoint(filepath, save_best_only=True)\n",
    "callbacks_list = [checkpoint]"
   ]
  },
  {
   "cell_type": "markdown",
   "metadata": {},
   "source": [
    "# Model Training"
   ]
  },
  {
   "cell_type": "code",
   "execution_count": 4,
   "metadata": {},
   "outputs": [
    {
     "name": "stdout",
     "output_type": "stream",
     "text": [
      "WARNING:tensorflow:From C:\\Users\\Raheel\\Anaconda3\\envs\\EnvName\\lib\\site-packages\\tensorflow\\python\\ops\\math_ops.py:3066: to_int32 (from tensorflow.python.ops.math_ops) is deprecated and will be removed in a future version.\n",
      "Instructions for updating:\n",
      "Use tf.cast instead.\n",
      "Train on 1500 samples, validate on 286 samples\n",
      "Epoch 1/50\n",
      "1500/1500 [==============================] - 31s 21ms/step - loss: 1.5593 - categorical_accuracy: 0.5140 - val_loss: 1.2417 - val_categorical_accuracy: 0.4266\n",
      "Epoch 2/50\n",
      "1500/1500 [==============================] - 25s 17ms/step - loss: 1.1735 - categorical_accuracy: 0.4313 - val_loss: 1.0387 - val_categorical_accuracy: 0.4266\n",
      "Epoch 3/50\n",
      "1500/1500 [==============================] - 26s 17ms/step - loss: 1.0407 - categorical_accuracy: 0.4580 - val_loss: 1.1215 - val_categorical_accuracy: 0.6364\n",
      "Epoch 4/50\n",
      "1500/1500 [==============================] - 27s 18ms/step - loss: 0.9433 - categorical_accuracy: 0.5880 - val_loss: 0.8486 - val_categorical_accuracy: 0.5210\n",
      "Epoch 5/50\n",
      "1500/1500 [==============================] - 26s 17ms/step - loss: 0.7945 - categorical_accuracy: 0.6547 - val_loss: 0.7499 - val_categorical_accuracy: 0.6608\n",
      "Epoch 6/50\n",
      "1500/1500 [==============================] - 26s 17ms/step - loss: 0.7448 - categorical_accuracy: 0.7820 - val_loss: 0.7725 - val_categorical_accuracy: 0.7727\n",
      "Epoch 7/50\n",
      "1500/1500 [==============================] - 27s 18ms/step - loss: 0.6313 - categorical_accuracy: 0.7973 - val_loss: 0.5337 - val_categorical_accuracy: 0.8706\n",
      "Epoch 8/50\n",
      "1500/1500 [==============================] - 26s 17ms/step - loss: 0.6270 - categorical_accuracy: 0.8040 - val_loss: 0.5728 - val_categorical_accuracy: 0.8741\n",
      "Epoch 9/50\n",
      "1500/1500 [==============================] - 25s 17ms/step - loss: 0.4502 - categorical_accuracy: 0.9147 - val_loss: 0.5908 - val_categorical_accuracy: 0.8322\n",
      "Epoch 10/50\n",
      "1500/1500 [==============================] - 28s 19ms/step - loss: 0.3684 - categorical_accuracy: 0.9200 - val_loss: 0.3239 - val_categorical_accuracy: 0.9336\n",
      "Epoch 11/50\n",
      "1500/1500 [==============================] - 29s 19ms/step - loss: 0.3605 - categorical_accuracy: 0.9007 - val_loss: 0.3811 - val_categorical_accuracy: 0.9021\n",
      "Epoch 12/50\n",
      "1500/1500 [==============================] - 27s 18ms/step - loss: 0.3017 - categorical_accuracy: 0.9173 - val_loss: 0.3334 - val_categorical_accuracy: 0.9126\n",
      "Epoch 13/50\n",
      "1500/1500 [==============================] - 28s 19ms/step - loss: 0.3543 - categorical_accuracy: 0.9033 - val_loss: 0.4176 - val_categorical_accuracy: 0.8392\n",
      "Epoch 14/50\n",
      "1500/1500 [==============================] - 28s 19ms/step - loss: 0.1984 - categorical_accuracy: 0.9373 - val_loss: 0.2092 - val_categorical_accuracy: 0.9371\n",
      "Epoch 15/50\n",
      "1500/1500 [==============================] - 26s 18ms/step - loss: 0.1569 - categorical_accuracy: 0.9373 - val_loss: 0.3855 - val_categorical_accuracy: 0.8566\n",
      "Epoch 16/50\n",
      "1500/1500 [==============================] - 27s 18ms/step - loss: 0.1506 - categorical_accuracy: 0.9333 - val_loss: 0.1889 - val_categorical_accuracy: 0.9371\n",
      "Epoch 17/50\n",
      "1500/1500 [==============================] - 26s 18ms/step - loss: 0.1420 - categorical_accuracy: 0.9333 - val_loss: 0.2069 - val_categorical_accuracy: 0.9266\n",
      "Epoch 18/50\n",
      "1500/1500 [==============================] - 26s 18ms/step - loss: 0.1304 - categorical_accuracy: 0.9367 - val_loss: 0.2640 - val_categorical_accuracy: 0.9021\n",
      "Epoch 19/50\n",
      "1500/1500 [==============================] - 25s 17ms/step - loss: 0.2933 - categorical_accuracy: 0.9027 - val_loss: 0.2578 - val_categorical_accuracy: 0.9196\n",
      "Epoch 20/50\n",
      "1500/1500 [==============================] - 26s 17ms/step - loss: 0.1293 - categorical_accuracy: 0.9407 - val_loss: 0.2420 - val_categorical_accuracy: 0.9196\n",
      "Epoch 21/50\n",
      "1500/1500 [==============================] - 27s 18ms/step - loss: 0.1172 - categorical_accuracy: 0.9387 - val_loss: 0.1943 - val_categorical_accuracy: 0.9406\n",
      "Epoch 22/50\n",
      "1500/1500 [==============================] - 26s 17ms/step - loss: 0.1026 - categorical_accuracy: 0.9413 - val_loss: 0.1761 - val_categorical_accuracy: 0.9406\n",
      "Epoch 23/50\n",
      "1500/1500 [==============================] - 27s 18ms/step - loss: 0.1019 - categorical_accuracy: 0.9407 - val_loss: 0.1327 - val_categorical_accuracy: 0.9336\n",
      "Epoch 24/50\n",
      "1500/1500 [==============================] - 26s 17ms/step - loss: 0.0881 - categorical_accuracy: 0.9407 - val_loss: 0.1405 - val_categorical_accuracy: 0.9406\n",
      "Epoch 25/50\n",
      "1500/1500 [==============================] - 26s 18ms/step - loss: 0.0795 - categorical_accuracy: 0.9433 - val_loss: 0.1698 - val_categorical_accuracy: 0.9441\n",
      "Epoch 26/50\n",
      "1500/1500 [==============================] - 26s 18ms/step - loss: 0.0793 - categorical_accuracy: 0.9427 - val_loss: 0.1795 - val_categorical_accuracy: 0.9336\n",
      "Epoch 27/50\n",
      "1500/1500 [==============================] - 26s 17ms/step - loss: 0.0747 - categorical_accuracy: 0.9447 - val_loss: 0.1319 - val_categorical_accuracy: 0.9441\n",
      "Epoch 28/50\n",
      "1500/1500 [==============================] - 27s 18ms/step - loss: 0.0659 - categorical_accuracy: 0.9640 - val_loss: 0.1628 - val_categorical_accuracy: 0.9476\n",
      "Epoch 29/50\n",
      "1500/1500 [==============================] - 26s 17ms/step - loss: 0.0595 - categorical_accuracy: 0.9833 - val_loss: 0.1842 - val_categorical_accuracy: 0.9441\n",
      "Epoch 30/50\n",
      "1500/1500 [==============================] - 26s 17ms/step - loss: 0.0472 - categorical_accuracy: 0.9987 - val_loss: 0.1070 - val_categorical_accuracy: 0.9790\n",
      "Epoch 31/50\n",
      "1500/1500 [==============================] - 26s 17ms/step - loss: 0.0438 - categorical_accuracy: 0.9967 - val_loss: 0.1573 - val_categorical_accuracy: 0.9685\n",
      "Epoch 32/50\n",
      "1500/1500 [==============================] - 26s 17ms/step - loss: 0.0501 - categorical_accuracy: 0.9887 - val_loss: 0.2526 - val_categorical_accuracy: 0.8811\n",
      "Epoch 33/50\n",
      "1500/1500 [==============================] - 25s 17ms/step - loss: 0.3931 - categorical_accuracy: 0.8700 - val_loss: 0.4792 - val_categorical_accuracy: 0.8706\n",
      "Epoch 34/50\n",
      "1500/1500 [==============================] - 26s 17ms/step - loss: 0.4049 - categorical_accuracy: 0.8380 - val_loss: 0.3529 - val_categorical_accuracy: 0.8846\n",
      "Epoch 35/50\n",
      "1500/1500 [==============================] - 25s 17ms/step - loss: 0.2442 - categorical_accuracy: 0.9200 - val_loss: 0.2671 - val_categorical_accuracy: 0.9266\n",
      "Epoch 36/50\n",
      "1500/1500 [==============================] - 26s 17ms/step - loss: 0.1901 - categorical_accuracy: 0.9567 - val_loss: 0.2284 - val_categorical_accuracy: 0.9406\n",
      "Epoch 37/50\n",
      "1500/1500 [==============================] - 27s 18ms/step - loss: 0.1531 - categorical_accuracy: 0.9713 - val_loss: 0.2034 - val_categorical_accuracy: 0.9406\n",
      "Epoch 38/50\n",
      "1500/1500 [==============================] - 28s 19ms/step - loss: 0.1267 - categorical_accuracy: 0.9600 - val_loss: 0.1868 - val_categorical_accuracy: 0.9441\n",
      "Epoch 39/50\n",
      "1500/1500 [==============================] - 27s 18ms/step - loss: 0.1074 - categorical_accuracy: 0.9493 - val_loss: 0.1836 - val_categorical_accuracy: 0.9406\n",
      "Epoch 40/50\n",
      "1500/1500 [==============================] - 25s 17ms/step - loss: 0.0935 - categorical_accuracy: 0.9473 - val_loss: 0.1801 - val_categorical_accuracy: 0.9476\n",
      "Epoch 41/50\n",
      "1500/1500 [==============================] - 27s 18ms/step - loss: 0.0825 - categorical_accuracy: 0.9493 - val_loss: 0.1898 - val_categorical_accuracy: 0.9476\n",
      "Epoch 42/50\n",
      "1500/1500 [==============================] - 27s 18ms/step - loss: 0.0734 - categorical_accuracy: 0.9520 - val_loss: 0.1496 - val_categorical_accuracy: 0.9510\n",
      "Epoch 43/50\n",
      "1500/1500 [==============================] - 26s 17ms/step - loss: 0.0647 - categorical_accuracy: 0.9687 - val_loss: 0.1523 - val_categorical_accuracy: 0.9545\n",
      "Epoch 44/50\n",
      "1500/1500 [==============================] - 26s 17ms/step - loss: 0.0568 - categorical_accuracy: 0.9807 - val_loss: 0.1519 - val_categorical_accuracy: 0.9580\n",
      "Epoch 45/50\n",
      "1500/1500 [==============================] - 26s 17ms/step - loss: 0.0500 - categorical_accuracy: 0.9907 - val_loss: 0.1537 - val_categorical_accuracy: 0.9545\n",
      "Epoch 46/50\n",
      "1500/1500 [==============================] - 26s 17ms/step - loss: 0.0427 - categorical_accuracy: 0.9967 - val_loss: 0.1412 - val_categorical_accuracy: 0.9685\n",
      "Epoch 47/50\n"
     ]
    },
    {
     "name": "stdout",
     "output_type": "stream",
     "text": [
      "1500/1500 [==============================] - 25s 17ms/step - loss: 0.0357 - categorical_accuracy: 0.9987 - val_loss: 0.1429 - val_categorical_accuracy: 0.9790\n",
      "Epoch 48/50\n",
      "1500/1500 [==============================] - 25s 17ms/step - loss: 0.0356 - categorical_accuracy: 0.9960 - val_loss: 0.2002 - val_categorical_accuracy: 0.9476\n",
      "Epoch 49/50\n",
      "1500/1500 [==============================] - 25s 17ms/step - loss: 0.0621 - categorical_accuracy: 0.9900 - val_loss: 0.1522 - val_categorical_accuracy: 0.9650\n",
      "Epoch 50/50\n",
      "1500/1500 [==============================] - 25s 17ms/step - loss: 0.0234 - categorical_accuracy: 0.9980 - val_loss: 0.1181 - val_categorical_accuracy: 0.9580\n"
     ]
    }
   ],
   "source": [
    "history=model.fit(x_train,y_train, epochs=50, callbacks=callbacks_list, batch_size=32, validation_data=(x_val,y_val))"
   ]
  },
  {
   "cell_type": "markdown",
   "metadata": {},
   "source": [
    "# Plotting the Training Process"
   ]
  },
  {
   "cell_type": "code",
   "execution_count": 5,
   "metadata": {},
   "outputs": [
    {
     "data": {
      "image/png": "[encoded data removed]",
      "text/plain": [
       "<Figure size 432x288 with 1 Axes>"
      ]
     },
     "metadata": {
      "needs_background": "light"
     },
     "output_type": "display_data"
    },
    {
     "data": {
      "image/png": "[encoded data removed]",
      "text/plain": [
       "<Figure size 432x288 with 1 Axes>"
      ]
     },
     "metadata": {
      "needs_background": "light"
     },
     "output_type": "display_data"
    }
   ],
   "source": [
    "import matplotlib.pyplot as plt\n",
    "%matplotlib inline\n",
    "\n",
    "acc=history.history['categorical_accuracy']\n",
    "val_acc=history.history['val_categorical_accuracy']\n",
    "loss=history.history['loss']\n",
    "val_loss=history.history['val_loss']\n",
    "epochs=range(1,len(acc)+1)\n",
    "plt.xlabel('Epochs')\n",
    "plt.ylabel('Accuracy')\n",
    "plt.plot(epochs, acc, 'bo', label='Training acc')\n",
    "plt.plot(epochs, val_acc, 'b', label='Validation acc')\n",
    "plt.title('Training and validation accuracy')\n",
    "plt.legend()\n",
    "plt.figure()\n",
    "\n",
    "plt.plot(epochs, loss, 'bo', label='Training loss')\n",
    "plt.plot(epochs, val_loss, 'b', label='Validation loss')\n",
    "plt.title('Training and validation loss')\n",
    "plt.xlabel('Epochs')\n",
    "plt.ylabel('Loss')\n",
    "plt.legend()\n",
    "plt.show()"
   ]
  },
  {
   "cell_type": "markdown",
   "metadata": {},
   "source": [
    "# Best Model Performance Evaluation"
   ]
  },
  {
   "cell_type": "code",
   "execution_count": 6,
   "metadata": {},
   "outputs": [],
   "source": [
    "from tensorflow.python.keras.models import load_model\n",
    "\n",
    "best_model = load_model('Four_Subject_Text_Document_Classification_using_Recurrent_Neural_Network_2nd Experiment.h5')"
   ]
  },
  {
   "cell_type": "code",
   "execution_count": 7,
   "metadata": {},
   "outputs": [
    {
     "name": "stdout",
     "output_type": "stream",
     "text": [
      "8/8 [==============================] - 2s 226ms/step - loss: 0.1070 - categorical_accuracy: 0.9790\n",
      "Validation-set accuracy: 97.90%\n"
     ]
    }
   ],
   "source": [
    "from tensorflow.python.keras.models import load_model\n",
    "\n",
    "batch_size=32\n",
    "steps_test=int(len(x_val)/batch_size)\n",
    "result = best_model.evaluate(x_val, y_val, steps=steps_test,verbose=1)\n",
    "print(\"Validation-set accuracy: {0:.2%}\".format(result[1]))"
   ]
  },
  {
   "cell_type": "markdown",
   "metadata": {},
   "source": [
    "# Confusion Matrix"
   ]
  },
  {
   "cell_type": "code",
   "execution_count": 8,
   "metadata": {},
   "outputs": [
    {
     "name": "stdout",
     "output_type": "stream",
     "text": [
      "286/286 [==============================] - 2s 8ms/sample\n",
      "(286, 1)\n",
      "(286, 1)\n"
     ]
    }
   ],
   "source": [
    "# Get predictions\n",
    "preds = best_model.predict(x_val, batch_size=16,verbose=1)\n",
    "preds=np.around(preds)\n",
    "\n",
    "orig_val_labels=np.argmax(y_val,axis=1)\n",
    "predicted_labels=np.argmax(preds,axis=1)\n",
    "\n",
    "orig_val_labels=np.reshape(orig_val_labels,(286,1))\n",
    "predicted_labels=np.reshape(predicted_labels,(286,1))\n",
    "\n",
    "print(predicted_labels.shape)\n",
    "print(orig_val_labels.shape)"
   ]
  },
  {
   "cell_type": "code",
   "execution_count": 9,
   "metadata": {},
   "outputs": [
    {
     "data": {
      "text/plain": [
       "<Figure size 432x288 with 0 Axes>"
      ]
     },
     "metadata": {},
     "output_type": "display_data"
    },
    {
     "data": {
      "image/png": "[encoded data removed]",
      "text/plain": [
       "<Figure size 1080x720 with 1 Axes>"
      ]
     },
     "metadata": {
      "needs_background": "light"
     },
     "output_type": "display_data"
    }
   ],
   "source": [
    "import matplotlib.pyplot as plt\n",
    "%matplotlib inline\n",
    "# Get the confusion matrix\n",
    "from sklearn.metrics import confusion_matrix\n",
    "from mlxtend.plotting import plot_confusion_matrix\n",
    "\n",
    "cm  = confusion_matrix(orig_val_labels, predicted_labels)\n",
    "plt.figure()\n",
    "plot_confusion_matrix(cm,figsize=(15,10), hide_ticks=True,cmap=plt.cm.Blues)\n",
    "plt.xticks(range(4), ['accounts','biology','geography','physics'], fontsize=16)\n",
    "plt.yticks(range(4), ['accounts','biology','geography','physics'], fontsize=16)\n",
    "plt.show()"
   ]
  }
 ],
 "metadata": {
  "kernelspec": {
   "display_name": "Python 3",
   "language": "python",
   "name": "python3"
  },
  "language_info": {
   "codemirror_mode": {
    "name": "ipython",
    "version": 3
   },
   "file_extension": ".py",
   "mimetype": "text/x-python",
   "name": "python",
   "nbconvert_exporter": "python",
   "pygments_lexer": "ipython3",
   "version": "3.6.8"
  }
 },
 "nbformat": 4,
 "nbformat_minor": 2
}
