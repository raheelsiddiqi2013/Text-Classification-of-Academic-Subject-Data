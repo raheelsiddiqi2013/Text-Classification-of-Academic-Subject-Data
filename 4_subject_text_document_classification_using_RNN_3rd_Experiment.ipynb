{
 "cells": [
  {
   "cell_type": "markdown",
   "metadata": {},
   "source": [
    "# Preprocessing the raw Four Subject Text Document Data"
   ]
  },
  {
   "cell_type": "code",
   "execution_count": 1,
   "metadata": {},
   "outputs": [],
   "source": [
    "import os\n",
    "\n",
    "four_subject_dir='D:\\\\TensorFlow Programs\\\\Text Classification Programs and Datasets\\\\4-subject-data-text-classification\\\\train_data_final'\n",
    "\n",
    "labels = []\n",
    "texts = []\n",
    "\n",
    "for label_type in ['accounts','biology','geography','physics']:\n",
    "    dir_name=os.path.join(four_subject_dir, label_type)\n",
    "    for fname in os.listdir(dir_name):\n",
    "        if fname[-4:]=='.txt':\n",
    "            f=open(os.path.join(dir_name,fname),encoding='utf-8')\n",
    "            texts.append(f.read())\n",
    "            f.close()\n",
    "            if label_type=='accounts':\n",
    "                labels.append(0)\n",
    "            elif label_type=='biology':\n",
    "                labels.append(1)\n",
    "            elif label_type=='geography':\n",
    "                labels.append(2)\n",
    "            elif label_type=='physics':\n",
    "                labels.append(3)"
   ]
  },
  {
   "cell_type": "markdown",
   "metadata": {},
   "source": [
    "# Tokenizing the Data"
   ]
  },
  {
   "cell_type": "code",
   "execution_count": 2,
   "metadata": {},
   "outputs": [
    {
     "name": "stderr",
     "output_type": "stream",
     "text": [
      "Using TensorFlow backend.\n"
     ]
    },
    {
     "name": "stdout",
     "output_type": "stream",
     "text": [
      "Found 28512 unique tokens\n",
      "(1786, 5)\n",
      "Shape of data tensor: (1786, 400)\n",
      "Shape of label tensor: (1786, 5)\n"
     ]
    }
   ],
   "source": [
    "from keras.preprocessing.text import Tokenizer\n",
    "from keras.preprocessing.sequence import pad_sequences\n",
    "from keras.utils import to_categorical\n",
    "import numpy as np\n",
    "\n",
    "maxlen=400\n",
    "training_samples=1500\n",
    "validation_samples=len(texts)-training_samples\n",
    "max_words=26000\n",
    "\n",
    "tokenizer=Tokenizer(num_words=max_words)\n",
    "tokenizer.fit_on_texts(texts)\n",
    "sequences=tokenizer.texts_to_sequences(texts)\n",
    "word_index=tokenizer.word_index\n",
    "print('Found %s unique tokens'%len(word_index))\n",
    "\n",
    "data=pad_sequences(sequences, maxlen=maxlen)\n",
    "\n",
    "labels=np.asarray(labels)\n",
    "labels=to_categorical(labels,num_classes=5)\n",
    "print(labels.shape)\n",
    "print('Shape of data tensor:',data.shape)\n",
    "print('Shape of label tensor:',labels.shape)\n",
    "\n",
    "indices=np.arange(data.shape[0])\n",
    "np.random.shuffle(indices)\n",
    "data=data[indices]\n",
    "labels=labels[indices]\n",
    "      \n",
    "x_train=data[:training_samples]\n",
    "y_train=labels[:training_samples]\n",
    "x_val=data[training_samples:training_samples+validation_samples]\n",
    "y_val=labels[training_samples:training_samples+validation_samples]"
   ]
  },
  {
   "cell_type": "markdown",
   "metadata": {},
   "source": [
    "# Model Definition"
   ]
  },
  {
   "cell_type": "code",
   "execution_count": 3,
   "metadata": {},
   "outputs": [
    {
     "name": "stdout",
     "output_type": "stream",
     "text": [
      "WARNING:tensorflow:From C:\\Users\\Raheel\\Anaconda3\\envs\\EnvName\\lib\\site-packages\\tensorflow\\python\\framework\\op_def_library.py:263: colocate_with (from tensorflow.python.framework.ops) is deprecated and will be removed in a future version.\n",
      "Instructions for updating:\n",
      "Colocations handled automatically by placer.\n",
      "_________________________________________________________________\n",
      "Layer (type)                 Output Shape              Param #   \n",
      "=================================================================\n",
      "embedding_1 (Embedding)      (None, None, 100)         2600000   \n",
      "_________________________________________________________________\n",
      "lstm_1 (LSTM)                (None, 512)               1255424   \n",
      "_________________________________________________________________\n",
      "dense_1 (Dense)              (None, 5)                 2565      \n",
      "=================================================================\n",
      "Total params: 3,857,989\n",
      "Trainable params: 3,857,989\n",
      "Non-trainable params: 0\n",
      "_________________________________________________________________\n"
     ]
    }
   ],
   "source": [
    "from keras.models import Sequential\n",
    "from keras.layers import Embedding, LSTM, Dense, Bidirectional,Dropout\n",
    "from keras import optimizers\n",
    "from keras.callbacks import ModelCheckpoint\n",
    "\n",
    "embedding_dim=100\n",
    "model=Sequential()\n",
    "model.add(Embedding(max_words,embedding_dim))\n",
    "model.add(LSTM(512))\n",
    "model.add(Dense(5, activation='softmax'))\n",
    "model.compile(loss='categorical_crossentropy',optimizer=optimizers.Adam(lr=1e-4),metrics=['categorical_accuracy'])\n",
    "model.summary()\n",
    "filepath=\"Four_Subject_Text_Document_Classification_using_Recurrent_Neural_Network_3rd Experiment.h5\"\n",
    "checkpoint = ModelCheckpoint(filepath, save_best_only=True)\n",
    "callbacks_list = [checkpoint]"
   ]
  },
  {
   "cell_type": "markdown",
   "metadata": {},
   "source": [
    "# Model Training"
   ]
  },
  {
   "cell_type": "code",
   "execution_count": 4,
   "metadata": {},
   "outputs": [
    {
     "name": "stdout",
     "output_type": "stream",
     "text": [
      "WARNING:tensorflow:From C:\\Users\\Raheel\\Anaconda3\\envs\\EnvName\\lib\\site-packages\\tensorflow\\python\\ops\\math_ops.py:3066: to_int32 (from tensorflow.python.ops.math_ops) is deprecated and will be removed in a future version.\n",
      "Instructions for updating:\n",
      "Use tf.cast instead.\n",
      "Train on 1500 samples, validate on 286 samples\n",
      "Epoch 1/50\n",
      "1500/1500 [==============================] - 30s 20ms/step - loss: 1.4315 - categorical_accuracy: 0.4967 - val_loss: 1.2798 - val_categorical_accuracy: 0.3741\n",
      "Epoch 2/50\n",
      "1500/1500 [==============================] - 27s 18ms/step - loss: 1.1233 - categorical_accuracy: 0.4733 - val_loss: 1.2144 - val_categorical_accuracy: 0.3811\n",
      "Epoch 3/50\n",
      "1500/1500 [==============================] - 28s 19ms/step - loss: 1.0320 - categorical_accuracy: 0.5287 - val_loss: 1.0254 - val_categorical_accuracy: 0.4545\n",
      "Epoch 4/50\n",
      "1500/1500 [==============================] - 27s 18ms/step - loss: 0.8743 - categorical_accuracy: 0.5953 - val_loss: 0.9452 - val_categorical_accuracy: 0.6958\n",
      "Epoch 5/50\n",
      "1500/1500 [==============================] - 27s 18ms/step - loss: 0.7261 - categorical_accuracy: 0.7593 - val_loss: 0.8002 - val_categorical_accuracy: 0.8042\n",
      "Epoch 6/50\n",
      "1500/1500 [==============================] - 27s 18ms/step - loss: 0.6096 - categorical_accuracy: 0.8380 - val_loss: 0.6981 - val_categorical_accuracy: 0.7902\n",
      "Epoch 7/50\n",
      "1500/1500 [==============================] - 27s 18ms/step - loss: 0.4372 - categorical_accuracy: 0.8893 - val_loss: 0.5177 - val_categorical_accuracy: 0.8671\n",
      "Epoch 8/50\n",
      "1500/1500 [==============================] - 28s 18ms/step - loss: 0.3361 - categorical_accuracy: 0.9020 - val_loss: 0.5489 - val_categorical_accuracy: 0.7972\n",
      "Epoch 9/50\n",
      "1500/1500 [==============================] - 26s 17ms/step - loss: 0.2618 - categorical_accuracy: 0.9227 - val_loss: 0.3645 - val_categorical_accuracy: 0.8741\n",
      "Epoch 10/50\n",
      "1500/1500 [==============================] - 26s 17ms/step - loss: 0.7856 - categorical_accuracy: 0.9107 - val_loss: 0.8406 - val_categorical_accuracy: 0.8636\n",
      "Epoch 11/50\n",
      "1500/1500 [==============================] - 25s 17ms/step - loss: 0.2771 - categorical_accuracy: 0.9433 - val_loss: 0.3164 - val_categorical_accuracy: 0.8986\n",
      "Epoch 12/50\n",
      "1500/1500 [==============================] - 25s 17ms/step - loss: 0.1392 - categorical_accuracy: 0.9440 - val_loss: 0.4158 - val_categorical_accuracy: 0.8427\n",
      "Epoch 13/50\n",
      "1500/1500 [==============================] - 25s 17ms/step - loss: 0.1290 - categorical_accuracy: 0.9480 - val_loss: 0.4010 - val_categorical_accuracy: 0.8916\n",
      "Epoch 14/50\n",
      "1500/1500 [==============================] - 25s 17ms/step - loss: 0.1089 - categorical_accuracy: 0.9493 - val_loss: 0.8543 - val_categorical_accuracy: 0.7273\n",
      "Epoch 15/50\n",
      "1500/1500 [==============================] - 25s 17ms/step - loss: 0.2549 - categorical_accuracy: 0.9260 - val_loss: 0.3967 - val_categorical_accuracy: 0.8881\n",
      "Epoch 16/50\n",
      "1500/1500 [==============================] - 25s 17ms/step - loss: 0.1467 - categorical_accuracy: 0.9513 - val_loss: 0.3909 - val_categorical_accuracy: 0.8916\n",
      "Epoch 17/50\n",
      "1500/1500 [==============================] - 25s 17ms/step - loss: 0.1135 - categorical_accuracy: 0.9513 - val_loss: 0.3582 - val_categorical_accuracy: 0.8951\n",
      "Epoch 18/50\n",
      "1500/1500 [==============================] - 27s 18ms/step - loss: 0.1411 - categorical_accuracy: 0.9500 - val_loss: 0.4439 - val_categorical_accuracy: 0.8986\n",
      "Epoch 19/50\n",
      "1500/1500 [==============================] - 29s 19ms/step - loss: 0.1050 - categorical_accuracy: 0.9520 - val_loss: 0.3682 - val_categorical_accuracy: 0.9021\n",
      "Epoch 20/50\n",
      "1500/1500 [==============================] - 28s 18ms/step - loss: 0.0953 - categorical_accuracy: 0.9520 - val_loss: 0.3643 - val_categorical_accuracy: 0.8986\n",
      "Epoch 21/50\n",
      "1500/1500 [==============================] - 28s 18ms/step - loss: 0.0875 - categorical_accuracy: 0.9520 - val_loss: 0.3488 - val_categorical_accuracy: 0.9021\n",
      "Epoch 22/50\n",
      "1500/1500 [==============================] - 28s 18ms/step - loss: 0.0839 - categorical_accuracy: 0.9533 - val_loss: 0.3154 - val_categorical_accuracy: 0.8951\n",
      "Epoch 23/50\n",
      "1500/1500 [==============================] - 27s 18ms/step - loss: 0.1251 - categorical_accuracy: 0.9547 - val_loss: 0.3545 - val_categorical_accuracy: 0.8986\n",
      "Epoch 24/50\n",
      "1500/1500 [==============================] - 28s 18ms/step - loss: 0.0952 - categorical_accuracy: 0.9520 - val_loss: 0.3509 - val_categorical_accuracy: 0.8986\n",
      "Epoch 25/50\n",
      "1500/1500 [==============================] - 28s 18ms/step - loss: 0.0819 - categorical_accuracy: 0.9527 - val_loss: 0.3423 - val_categorical_accuracy: 0.9021\n",
      "Epoch 26/50\n",
      "1500/1500 [==============================] - 28s 18ms/step - loss: 0.0760 - categorical_accuracy: 0.9573 - val_loss: 0.3792 - val_categorical_accuracy: 0.8986\n",
      "Epoch 27/50\n",
      "1500/1500 [==============================] - 28s 19ms/step - loss: 0.0660 - categorical_accuracy: 0.9713 - val_loss: 0.3279 - val_categorical_accuracy: 0.9056\n",
      "Epoch 28/50\n",
      "1500/1500 [==============================] - 28s 19ms/step - loss: 0.0500 - categorical_accuracy: 0.9920 - val_loss: 0.2948 - val_categorical_accuracy: 0.9301\n",
      "Epoch 29/50\n",
      "1500/1500 [==============================] - 27s 18ms/step - loss: 0.0766 - categorical_accuracy: 0.9813 - val_loss: 0.2873 - val_categorical_accuracy: 0.9161\n",
      "Epoch 30/50\n",
      "1500/1500 [==============================] - 27s 18ms/step - loss: 0.0472 - categorical_accuracy: 0.9887 - val_loss: 0.2830 - val_categorical_accuracy: 0.9266\n",
      "Epoch 31/50\n",
      "1500/1500 [==============================] - 27s 18ms/step - loss: 0.0277 - categorical_accuracy: 0.9953 - val_loss: 0.2799 - val_categorical_accuracy: 0.9301\n",
      "Epoch 32/50\n",
      "1500/1500 [==============================] - 26s 17ms/step - loss: 0.0588 - categorical_accuracy: 0.9793 - val_loss: 0.3054 - val_categorical_accuracy: 0.8916\n",
      "Epoch 33/50\n",
      "1500/1500 [==============================] - 27s 18ms/step - loss: 0.5304 - categorical_accuracy: 0.9447 - val_loss: 0.7635 - val_categorical_accuracy: 0.8322\n",
      "Epoch 34/50\n",
      "1500/1500 [==============================] - 28s 19ms/step - loss: 0.4285 - categorical_accuracy: 0.9593 - val_loss: 0.4972 - val_categorical_accuracy: 0.8951\n",
      "Epoch 35/50\n",
      "1500/1500 [==============================] - 27s 18ms/step - loss: 0.1847 - categorical_accuracy: 0.9587 - val_loss: 0.3514 - val_categorical_accuracy: 0.8916\n",
      "Epoch 36/50\n",
      "1500/1500 [==============================] - 27s 18ms/step - loss: 0.0972 - categorical_accuracy: 0.9600 - val_loss: 0.2691 - val_categorical_accuracy: 0.9091\n",
      "Epoch 37/50\n",
      "1500/1500 [==============================] - 27s 18ms/step - loss: 0.0750 - categorical_accuracy: 0.9700 - val_loss: 0.3028 - val_categorical_accuracy: 0.8986\n",
      "Epoch 38/50\n",
      "1500/1500 [==============================] - 27s 18ms/step - loss: 0.0626 - categorical_accuracy: 0.9780 - val_loss: 0.2105 - val_categorical_accuracy: 0.9196\n",
      "Epoch 39/50\n",
      "1500/1500 [==============================] - 27s 18ms/step - loss: 0.0468 - categorical_accuracy: 0.9893 - val_loss: 0.2354 - val_categorical_accuracy: 0.9056\n",
      "Epoch 40/50\n",
      "1500/1500 [==============================] - 27s 18ms/step - loss: 0.0309 - categorical_accuracy: 0.9967 - val_loss: 0.1248 - val_categorical_accuracy: 0.9580\n",
      "Epoch 41/50\n",
      "1500/1500 [==============================] - 27s 18ms/step - loss: 0.0193 - categorical_accuracy: 0.9987 - val_loss: 0.1300 - val_categorical_accuracy: 0.9650\n",
      "Epoch 42/50\n",
      "1500/1500 [==============================] - 27s 18ms/step - loss: 0.0111 - categorical_accuracy: 1.0000 - val_loss: 0.1065 - val_categorical_accuracy: 0.9720\n",
      "Epoch 43/50\n",
      "1500/1500 [==============================] - 26s 18ms/step - loss: 0.0462 - categorical_accuracy: 0.9860 - val_loss: 0.2420 - val_categorical_accuracy: 0.9126\n",
      "Epoch 44/50\n",
      "1500/1500 [==============================] - 27s 18ms/step - loss: 0.0363 - categorical_accuracy: 0.9927 - val_loss: 0.2373 - val_categorical_accuracy: 0.9231\n",
      "Epoch 45/50\n",
      "1500/1500 [==============================] - 28s 18ms/step - loss: 0.0238 - categorical_accuracy: 0.9947 - val_loss: 0.1983 - val_categorical_accuracy: 0.9476\n",
      "Epoch 46/50\n",
      "1500/1500 [==============================] - 27s 18ms/step - loss: 0.0450 - categorical_accuracy: 0.9960 - val_loss: 0.3028 - val_categorical_accuracy: 0.9196\n",
      "Epoch 47/50\n"
     ]
    },
    {
     "name": "stdout",
     "output_type": "stream",
     "text": [
      "1500/1500 [==============================] - 27s 18ms/step - loss: 0.0297 - categorical_accuracy: 0.9967 - val_loss: 0.2072 - val_categorical_accuracy: 0.9476\n",
      "Epoch 48/50\n",
      "1500/1500 [==============================] - 27s 18ms/step - loss: 0.0362 - categorical_accuracy: 0.9953 - val_loss: 0.2034 - val_categorical_accuracy: 0.9371\n",
      "Epoch 49/50\n",
      "1500/1500 [==============================] - 27s 18ms/step - loss: 0.0299 - categorical_accuracy: 0.9967 - val_loss: 0.1434 - val_categorical_accuracy: 0.9476\n",
      "Epoch 50/50\n",
      "1500/1500 [==============================] - 26s 18ms/step - loss: 0.0144 - categorical_accuracy: 0.9993 - val_loss: 0.1022 - val_categorical_accuracy: 0.9720\n"
     ]
    }
   ],
   "source": [
    "history=model.fit(x_train,y_train, epochs=50, callbacks=callbacks_list, batch_size=32, validation_data=(x_val,y_val))"
   ]
  },
  {
   "cell_type": "markdown",
   "metadata": {},
   "source": [
    "# Plotting the Training Process"
   ]
  },
  {
   "cell_type": "code",
   "execution_count": 5,
   "metadata": {},
   "outputs": [
    {
     "data": {
      "image/png": "[encoded data removed]",
      "text/plain": [
       "<Figure size 432x288 with 1 Axes>"
      ]
     },
     "metadata": {
      "needs_background": "light"
     },
     "output_type": "display_data"
    },
    {
     "data": {
      "image/png": "[encoded data removed]",
      "text/plain": [
       "<Figure size 432x288 with 1 Axes>"
      ]
     },
     "metadata": {
      "needs_background": "light"
     },
     "output_type": "display_data"
    }
   ],
   "source": [
    "import matplotlib.pyplot as plt\n",
    "%matplotlib inline\n",
    "\n",
    "acc=history.history['categorical_accuracy']\n",
    "val_acc=history.history['val_categorical_accuracy']\n",
    "loss=history.history['loss']\n",
    "val_loss=history.history['val_loss']\n",
    "epochs=range(1,len(acc)+1)\n",
    "plt.xlabel('Epochs')\n",
    "plt.ylabel('Accuracy')\n",
    "plt.plot(epochs, acc, 'bo', label='Training acc')\n",
    "plt.plot(epochs, val_acc, 'b', label='Validation acc')\n",
    "plt.title('Training and validation accuracy')\n",
    "plt.legend()\n",
    "plt.figure()\n",
    "\n",
    "plt.plot(epochs, loss, 'bo', label='Training loss')\n",
    "plt.plot(epochs, val_loss, 'b', label='Validation loss')\n",
    "plt.title('Training and validation loss')\n",
    "plt.xlabel('Epochs')\n",
    "plt.ylabel('Loss')\n",
    "plt.legend()\n",
    "plt.show()"
   ]
  },
  {
   "cell_type": "markdown",
   "metadata": {},
   "source": [
    "# Best Model Performance Evaluation"
   ]
  },
  {
   "cell_type": "code",
   "execution_count": 6,
   "metadata": {},
   "outputs": [],
   "source": [
    "from tensorflow.python.keras.models import load_model\n",
    "\n",
    "best_model = load_model('Four_Subject_Text_Document_Classification_using_Recurrent_Neural_Network_3rd Experiment.h5')"
   ]
  },
  {
   "cell_type": "code",
   "execution_count": 7,
   "metadata": {},
   "outputs": [
    {
     "name": "stdout",
     "output_type": "stream",
     "text": [
      "8/8 [==============================] - 4s 465ms/step - loss: 0.1022 - categorical_accuracy: 0.9720\n",
      "Validation-set accuracy: 97.20%\n"
     ]
    }
   ],
   "source": [
    "from tensorflow.python.keras.models import load_model\n",
    "\n",
    "batch_size=32\n",
    "steps_test=int(len(x_val)/batch_size)\n",
    "result = best_model.evaluate(x_val, y_val, steps=steps_test,verbose=1)\n",
    "print(\"Validation-set accuracy: {0:.2%}\".format(result[1]))"
   ]
  },
  {
   "cell_type": "markdown",
   "metadata": {},
   "source": [
    "# Confusion Matrix"
   ]
  },
  {
   "cell_type": "code",
   "execution_count": 8,
   "metadata": {},
   "outputs": [
    {
     "name": "stdout",
     "output_type": "stream",
     "text": [
      "286/286 [==============================] - 3s 10ms/sample\n",
      "(286, 1)\n",
      "(286, 1)\n"
     ]
    }
   ],
   "source": [
    "# Get predictions\n",
    "preds = best_model.predict(x_val, batch_size=16,verbose=1)\n",
    "preds=np.around(preds)\n",
    "\n",
    "orig_val_labels=np.argmax(y_val,axis=1)\n",
    "predicted_labels=np.argmax(preds,axis=1)\n",
    "\n",
    "orig_val_labels=np.reshape(orig_val_labels,(286,1))\n",
    "predicted_labels=np.reshape(predicted_labels,(286,1))\n",
    "\n",
    "print(predicted_labels.shape)\n",
    "print(orig_val_labels.shape)"
   ]
  },
  {
   "cell_type": "code",
   "execution_count": 9,
   "metadata": {},
   "outputs": [
    {
     "data": {
      "text/plain": [
       "<Figure size 432x288 with 0 Axes>"
      ]
     },
     "metadata": {},
     "output_type": "display_data"
    },
    {
     "data": {
      "image/png": "[encoded data removed]",
      "text/plain": [
       "<Figure size 1080x720 with 1 Axes>"
      ]
     },
     "metadata": {
      "needs_background": "light"
     },
     "output_type": "display_data"
    }
   ],
   "source": [
    "import matplotlib.pyplot as plt\n",
    "%matplotlib inline\n",
    "# Get the confusion matrix\n",
    "from sklearn.metrics import confusion_matrix\n",
    "from mlxtend.plotting import plot_confusion_matrix\n",
    "\n",
    "cm  = confusion_matrix(orig_val_labels, predicted_labels)\n",
    "plt.figure()\n",
    "plot_confusion_matrix(cm,figsize=(15,10), hide_ticks=True,cmap=plt.cm.Blues)\n",
    "plt.xticks(range(4), ['accounts','biology','geography','physics'], fontsize=16)\n",
    "plt.yticks(range(4), ['accounts','biology','geography','physics'], fontsize=16)\n",
    "plt.show()"
   ]
  }
 ],
 "metadata": {
  "kernelspec": {
   "display_name": "Python 3",
   "language": "python",
   "name": "python3"
  },
  "language_info": {
   "codemirror_mode": {
    "name": "ipython",
    "version": 3
   },
   "file_extension": ".py",
   "mimetype": "text/x-python",
   "name": "python",
   "nbconvert_exporter": "python",
   "pygments_lexer": "ipython3",
   "version": "3.6.8"
  }
 },
 "nbformat": 4,
 "nbformat_minor": 2
}
